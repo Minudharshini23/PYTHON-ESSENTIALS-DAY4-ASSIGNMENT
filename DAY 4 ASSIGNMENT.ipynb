{
 "cells": [
  {
   "cell_type": "markdown",
   "metadata": {},
   "source": [
    "# input=[0,1,2,10,4,1,0,56,2,0,1,3,0,56,0,4]"
   ]
  },
  {
   "cell_type": "markdown",
   "metadata": {},
   "source": [
    "# sort in increasing order but all zeros should be at the right hand side"
   ]
  },
  {
   "cell_type": "code",
   "execution_count": 16,
   "metadata": {},
   "outputs": [
    {
     "name": "stdout",
     "output_type": "stream",
     "text": [
      "Sorted array with zeros at right is\n",
      "[1, 1, 1, 2, 2, 3, 4, 4, 10, 56, 56, 0, 0, 0, 0, 0]\n"
     ]
    }
   ],
   "source": [
    "input=[0,1,2,10,4,1,0,56,2,0,1,3,0,56,0,4]\n",
    "maximum=max(input)\n",
    "def func(num):\n",
    "    if(num==0):\n",
    "        return maximum+1\n",
    "    else:\n",
    "        return num\n",
    "input.sort(key=func)\n",
    "print(\"SORTED ARRAY WITH ZEROS AT ITS RIGHT\")\n",
    "print(input)"
   ]
  },
  {
   "cell_type": "code",
   "execution_count": 15,
   "metadata": {},
   "outputs": [
    {
     "name": "stdout",
     "output_type": "stream",
     "text": [
      "THE SORTED COMBINATION OF TWO SORTED ARRAYS:\n",
      "[5, 10, 15, 20, 25, 35, 40, 45, 60, 60, 70, 80]\n"
     ]
    }
   ],
   "source": [
    "list1=[10,20,40,60,70,80]\n",
    "list2=[5,15,25,35,45,60]\n",
    "list3=[]\n",
    "index=0\n",
    "inde=0\n",
    "while index<len(list1) and inde<len(list2):\n",
    "    if(list1[index] < list2[inde]):\n",
    "        list3.append(list1[index])\n",
    "        index+=1\n",
    "    elif(list1[index] > list2[inde]):\n",
    "        list3.append(list2[inde])\n",
    "        inde+=1\n",
    "    else:\n",
    "        list3.append(list1[index])\n",
    "        list3.append(list2[inde])\n",
    "        index+=1\n",
    "        inde+=1\n",
    "         \n",
    "if(index!=len(list1)):\n",
    "    list3+=list1[index:]\n",
    "else:\n",
    "    list3+=list2[inde:]\n",
    "\n",
    "print(\"THE SORTED COMBINATION OF TWO SORTED ARRAYS:\")\n",
    "print(list3)"
   ]
  },
  {
   "cell_type": "code",
   "execution_count": null,
   "metadata": {},
   "outputs": [],
   "source": []
  }
 ],
 "metadata": {
  "kernelspec": {
   "display_name": "Python 3",
   "language": "python",
   "name": "python3"
  },
  "language_info": {
   "codemirror_mode": {
    "name": "ipython",
    "version": 3
   },
   "file_extension": ".py",
   "mimetype": "text/x-python",
   "name": "python",
   "nbconvert_exporter": "python",
   "pygments_lexer": "ipython3",
   "version": "3.7.6"
  }
 },
 "nbformat": 4,
 "nbformat_minor": 4
}
